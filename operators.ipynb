{
  "nbformat": 4,
  "nbformat_minor": 0,
  "metadata": {
    "colab": {
      "provenance": []
    },
    "kernelspec": {
      "name": "python3",
      "display_name": "Python 3"
    },
    "language_info": {
      "name": "python"
    }
  },
  "cells": [
    {
      "cell_type": "code",
      "execution_count": null,
      "metadata": {
        "id": "EHww85_N_spc"
      },
      "outputs": [],
      "source": [
        "abc=20"
      ]
    },
    {
      "cell_type": "code",
      "source": [
        "abc"
      ],
      "metadata": {
        "colab": {
          "base_uri": "https://localhost:8080/"
        },
        "id": "N2rOKIjAEHVW",
        "outputId": "f4d63340-37e0-43df-80d5-4c97b7823560"
      },
      "execution_count": null,
      "outputs": [
        {
          "output_type": "execute_result",
          "data": {
            "text/plain": [
              "20"
            ]
          },
          "metadata": {},
          "execution_count": 2
        }
      ]
    },
    {
      "cell_type": "code",
      "source": [
        "print(type(abc))"
      ],
      "metadata": {
        "colab": {
          "base_uri": "https://localhost:8080/"
        },
        "id": "SFunDrmiENjn",
        "outputId": "7eed8c6a-11ac-474f-be5e-02c9a50acb0a"
      },
      "execution_count": null,
      "outputs": [
        {
          "output_type": "stream",
          "name": "stdout",
          "text": [
            "<class 'int'>\n"
          ]
        }
      ]
    },
    {
      "cell_type": "code",
      "source": [
        "p=29\n",
        "q=31\n",
        "r=p+q"
      ],
      "metadata": {
        "id": "VSkDeVXsK5JM"
      },
      "execution_count": null,
      "outputs": []
    },
    {
      "cell_type": "code",
      "source": [
        "r"
      ],
      "metadata": {
        "colab": {
          "base_uri": "https://localhost:8080/"
        },
        "id": "8Y25bVdECdSw",
        "outputId": "ba652942-5319-43b6-fbe1-fa293bce519c"
      },
      "execution_count": null,
      "outputs": [
        {
          "output_type": "execute_result",
          "data": {
            "text/plain": [
              "60"
            ]
          },
          "metadata": {},
          "execution_count": 3
        }
      ]
    },
    {
      "cell_type": "code",
      "source": [
        "p-q"
      ],
      "metadata": {
        "colab": {
          "base_uri": "https://localhost:8080/"
        },
        "id": "YtpEpLvbC3cD",
        "outputId": "5746ba5f-976b-4226-c004-edbeaa7d3685"
      },
      "execution_count": null,
      "outputs": [
        {
          "output_type": "execute_result",
          "data": {
            "text/plain": [
              "-2"
            ]
          },
          "metadata": {},
          "execution_count": 5
        }
      ]
    },
    {
      "cell_type": "code",
      "source": [
        "a=20\n",
        "b=10"
      ],
      "metadata": {
        "id": "olHQe14FC41r"
      },
      "execution_count": null,
      "outputs": []
    },
    {
      "cell_type": "code",
      "source": [
        "a*b"
      ],
      "metadata": {
        "colab": {
          "base_uri": "https://localhost:8080/"
        },
        "id": "aff0Ov_UDDN0",
        "outputId": "e7390277-6af8-44f3-bc78-10662442a246"
      },
      "execution_count": null,
      "outputs": [
        {
          "output_type": "execute_result",
          "data": {
            "text/plain": [
              "200"
            ]
          },
          "metadata": {},
          "execution_count": 7
        }
      ]
    },
    {
      "cell_type": "code",
      "source": [
        "a/b"
      ],
      "metadata": {
        "colab": {
          "base_uri": "https://localhost:8080/"
        },
        "id": "b1kaVCZ7DFtj",
        "outputId": "4621f7ec-e1d1-4260-f109-d1a9b7d5db67"
      },
      "execution_count": null,
      "outputs": [
        {
          "output_type": "execute_result",
          "data": {
            "text/plain": [
              "2.0"
            ]
          },
          "metadata": {},
          "execution_count": 8
        }
      ]
    },
    {
      "cell_type": "code",
      "source": [
        "a//b"
      ],
      "metadata": {
        "colab": {
          "base_uri": "https://localhost:8080/"
        },
        "id": "2OyR8KcFDQYu",
        "outputId": "c31da03a-eb01-4614-e941-180b8786a4f5"
      },
      "execution_count": null,
      "outputs": [
        {
          "output_type": "execute_result",
          "data": {
            "text/plain": [
              "2"
            ]
          },
          "metadata": {},
          "execution_count": 9
        }
      ]
    },
    {
      "cell_type": "code",
      "source": [
        "a%b"
      ],
      "metadata": {
        "colab": {
          "base_uri": "https://localhost:8080/"
        },
        "id": "asTcU8caDOj3",
        "outputId": "ec23d353-b1ff-4bbd-a434-e7d29854260d"
      },
      "execution_count": null,
      "outputs": [
        {
          "output_type": "execute_result",
          "data": {
            "text/plain": [
              "0"
            ]
          },
          "metadata": {},
          "execution_count": 10
        }
      ]
    },
    {
      "cell_type": "code",
      "source": [
        "a=2000\n",
        "b=2000"
      ],
      "metadata": {
        "id": "SL7sUpdqFgm1"
      },
      "execution_count": null,
      "outputs": []
    },
    {
      "cell_type": "code",
      "source": [
        "id(a)"
      ],
      "metadata": {
        "colab": {
          "base_uri": "https://localhost:8080/"
        },
        "id": "GuFSS6z1HjXk",
        "outputId": "e874c097-0026-4c34-caf0-af8d60a54028"
      },
      "execution_count": null,
      "outputs": [
        {
          "output_type": "execute_result",
          "data": {
            "text/plain": [
              "132515776456272"
            ]
          },
          "metadata": {},
          "execution_count": 12
        }
      ]
    },
    {
      "cell_type": "code",
      "source": [
        "id(b)"
      ],
      "metadata": {
        "colab": {
          "base_uri": "https://localhost:8080/"
        },
        "id": "oYji3opEHkyO",
        "outputId": "53285194-b522-4ccf-a83c-68d403bdfd61"
      },
      "execution_count": null,
      "outputs": [
        {
          "output_type": "execute_result",
          "data": {
            "text/plain": [
              "132515776454768"
            ]
          },
          "metadata": {},
          "execution_count": 13
        }
      ]
    },
    {
      "cell_type": "code",
      "source": [
        "z=100"
      ],
      "metadata": {
        "id": "OpMERY4JHmIp"
      },
      "execution_count": null,
      "outputs": []
    },
    {
      "cell_type": "code",
      "source": [
        "z+=10"
      ],
      "metadata": {
        "id": "weWeFUt5NO1J"
      },
      "execution_count": null,
      "outputs": []
    },
    {
      "cell_type": "code",
      "source": [
        "z"
      ],
      "metadata": {
        "colab": {
          "base_uri": "https://localhost:8080/"
        },
        "id": "3-b2heo-NRaO",
        "outputId": "527fae24-a4c9-41cd-cb0b-9eb802574212"
      },
      "execution_count": null,
      "outputs": [
        {
          "output_type": "execute_result",
          "data": {
            "text/plain": [
              "110"
            ]
          },
          "metadata": {},
          "execution_count": 16
        }
      ]
    },
    {
      "cell_type": "code",
      "source": [
        "z-=30"
      ],
      "metadata": {
        "id": "cuJewNQYNSRW"
      },
      "execution_count": null,
      "outputs": []
    },
    {
      "cell_type": "code",
      "source": [
        "z"
      ],
      "metadata": {
        "colab": {
          "base_uri": "https://localhost:8080/"
        },
        "id": "NFcdr8mZNWy8",
        "outputId": "b880665f-1226-4937-dd52-909da29c3fa6"
      },
      "execution_count": null,
      "outputs": [
        {
          "output_type": "execute_result",
          "data": {
            "text/plain": [
              "60"
            ]
          },
          "metadata": {},
          "execution_count": 20
        }
      ]
    },
    {
      "cell_type": "code",
      "source": [
        "z*=30"
      ],
      "metadata": {
        "id": "rUHSrYr7NXl3"
      },
      "execution_count": null,
      "outputs": []
    },
    {
      "cell_type": "code",
      "source": [
        "z"
      ],
      "metadata": {
        "colab": {
          "base_uri": "https://localhost:8080/"
        },
        "id": "PYhP4a1HNdjA",
        "outputId": "bb5b5448-45ea-42c2-e0f6-00280eb559ed"
      },
      "execution_count": null,
      "outputs": [
        {
          "output_type": "execute_result",
          "data": {
            "text/plain": [
              "1800"
            ]
          },
          "metadata": {},
          "execution_count": 22
        }
      ]
    },
    {
      "cell_type": "code",
      "source": [
        "z/=30"
      ],
      "metadata": {
        "id": "TOjTrK_NNeOl"
      },
      "execution_count": null,
      "outputs": []
    },
    {
      "cell_type": "code",
      "source": [
        "z"
      ],
      "metadata": {
        "colab": {
          "base_uri": "https://localhost:8080/"
        },
        "id": "snAldIPFNhkt",
        "outputId": "905344d0-c99d-43d9-e76d-8e9fe9cce972"
      },
      "execution_count": null,
      "outputs": [
        {
          "output_type": "execute_result",
          "data": {
            "text/plain": [
              "60.0"
            ]
          },
          "metadata": {},
          "execution_count": 24
        }
      ]
    },
    {
      "cell_type": "code",
      "source": [
        "z//=30"
      ],
      "metadata": {
        "id": "-C_-TRjQNiUt"
      },
      "execution_count": null,
      "outputs": []
    },
    {
      "cell_type": "code",
      "source": [
        "z"
      ],
      "metadata": {
        "colab": {
          "base_uri": "https://localhost:8080/"
        },
        "id": "XkUL_DVZNl2i",
        "outputId": "3dfc3771-5e02-40ab-d1b8-b4cfc98b8954"
      },
      "execution_count": null,
      "outputs": [
        {
          "output_type": "execute_result",
          "data": {
            "text/plain": [
              "2.0"
            ]
          },
          "metadata": {},
          "execution_count": 26
        }
      ]
    },
    {
      "cell_type": "code",
      "source": [
        "z=5//3"
      ],
      "metadata": {
        "id": "sRzu8DqJNmoo"
      },
      "execution_count": null,
      "outputs": []
    },
    {
      "cell_type": "code",
      "source": [
        "z"
      ],
      "metadata": {
        "colab": {
          "base_uri": "https://localhost:8080/"
        },
        "id": "wioCQ8L6Nv5d",
        "outputId": "cc193fc4-a0dd-4f58-fc07-483ec1119516"
      },
      "execution_count": null,
      "outputs": [
        {
          "output_type": "execute_result",
          "data": {
            "text/plain": [
              "1"
            ]
          },
          "metadata": {},
          "execution_count": 28
        }
      ]
    },
    {
      "cell_type": "code",
      "source": [
        "z=1800"
      ],
      "metadata": {
        "id": "21kW6GfvNxBi"
      },
      "execution_count": null,
      "outputs": []
    },
    {
      "cell_type": "code",
      "source": [
        "z%=10"
      ],
      "metadata": {
        "id": "7XWXMKoHN2MG"
      },
      "execution_count": null,
      "outputs": []
    },
    {
      "cell_type": "code",
      "source": [
        "z"
      ],
      "metadata": {
        "colab": {
          "base_uri": "https://localhost:8080/"
        },
        "id": "ndWiFrkNN5tm",
        "outputId": "30bb7938-a391-425c-f3ae-0e71e6201a02"
      },
      "execution_count": null,
      "outputs": [
        {
          "output_type": "execute_result",
          "data": {
            "text/plain": [
              "0"
            ]
          },
          "metadata": {},
          "execution_count": 31
        }
      ]
    },
    {
      "cell_type": "code",
      "source": [
        "z=1800"
      ],
      "metadata": {
        "id": "G8PhXQw5N6Zh"
      },
      "execution_count": null,
      "outputs": []
    },
    {
      "cell_type": "code",
      "source": [
        "z/=10"
      ],
      "metadata": {
        "id": "Bqo3NYK1N8e3"
      },
      "execution_count": null,
      "outputs": []
    },
    {
      "cell_type": "code",
      "source": [
        "z"
      ],
      "metadata": {
        "colab": {
          "base_uri": "https://localhost:8080/"
        },
        "id": "eRZURx6jOAPt",
        "outputId": "c6e1da1f-4b5d-4299-ffa2-90b1589c38c9"
      },
      "execution_count": null,
      "outputs": [
        {
          "output_type": "execute_result",
          "data": {
            "text/plain": [
              "180.0"
            ]
          },
          "metadata": {},
          "execution_count": 35
        }
      ]
    },
    {
      "cell_type": "code",
      "source": [
        "z=1800"
      ],
      "metadata": {
        "id": "SxEqwDXhOA9U"
      },
      "execution_count": null,
      "outputs": []
    },
    {
      "cell_type": "code",
      "source": [
        "z//=10"
      ],
      "metadata": {
        "id": "wxP4GsHuODCU"
      },
      "execution_count": null,
      "outputs": []
    },
    {
      "cell_type": "code",
      "source": [
        "z"
      ],
      "metadata": {
        "colab": {
          "base_uri": "https://localhost:8080/"
        },
        "id": "fAJWqL4oOFzu",
        "outputId": "5cba2121-1976-4565-a5fc-7b2c4927e535"
      },
      "execution_count": null,
      "outputs": [
        {
          "output_type": "execute_result",
          "data": {
            "text/plain": [
              "180"
            ]
          },
          "metadata": {},
          "execution_count": 38
        }
      ]
    },
    {
      "cell_type": "code",
      "source": [
        "z=9"
      ],
      "metadata": {
        "id": "33cJl91gOGkT"
      },
      "execution_count": null,
      "outputs": []
    },
    {
      "cell_type": "code",
      "source": [
        "z**=2"
      ],
      "metadata": {
        "id": "nj2RO8eNOd3g"
      },
      "execution_count": null,
      "outputs": []
    },
    {
      "cell_type": "code",
      "source": [
        "z"
      ],
      "metadata": {
        "colab": {
          "base_uri": "https://localhost:8080/"
        },
        "id": "d1VN6-EIOl2i",
        "outputId": "762bffc4-8f5c-40b2-f076-d543486323c7"
      },
      "execution_count": null,
      "outputs": [
        {
          "output_type": "execute_result",
          "data": {
            "text/plain": [
              "81"
            ]
          },
          "metadata": {},
          "execution_count": 42
        }
      ]
    },
    {
      "cell_type": "code",
      "source": [
        "a=10\n",
        "b=20"
      ],
      "metadata": {
        "id": "STt2B1YOQh7J"
      },
      "execution_count": null,
      "outputs": []
    },
    {
      "cell_type": "code",
      "source": [
        "a=b"
      ],
      "metadata": {
        "id": "QOJy2O_UOmxZ"
      },
      "execution_count": null,
      "outputs": []
    },
    {
      "cell_type": "code",
      "source": [
        "a=300\n",
        "b=200\n",
        "c=100"
      ],
      "metadata": {
        "id": "XqV76RVTQ670"
      },
      "execution_count": null,
      "outputs": []
    },
    {
      "cell_type": "code",
      "source": [
        "a>b>c"
      ],
      "metadata": {
        "colab": {
          "base_uri": "https://localhost:8080/"
        },
        "id": "-oQ-SCIfTsKh",
        "outputId": "5e14bbac-bfb4-41f4-b726-d0f8c6c85c8f"
      },
      "execution_count": null,
      "outputs": [
        {
          "output_type": "execute_result",
          "data": {
            "text/plain": [
              "True"
            ]
          },
          "metadata": {},
          "execution_count": 56
        }
      ]
    },
    {
      "cell_type": "code",
      "source": [
        "a>b and b>c"
      ],
      "metadata": {
        "colab": {
          "base_uri": "https://localhost:8080/"
        },
        "id": "XTtwXZ_nYoXG",
        "outputId": "6d51a0d0-c642-425e-b706-02a6f17c32ec"
      },
      "execution_count": null,
      "outputs": [
        {
          "output_type": "execute_result",
          "data": {
            "text/plain": [
              "True"
            ]
          },
          "metadata": {},
          "execution_count": 53
        }
      ]
    },
    {
      "cell_type": "code",
      "source": [
        "a<b or b>c\n"
      ],
      "metadata": {
        "colab": {
          "base_uri": "https://localhost:8080/"
        },
        "id": "Aav8LnWAY68O",
        "outputId": "12ba6db0-b754-4251-b0d1-8b397552b6fd"
      },
      "execution_count": null,
      "outputs": [
        {
          "output_type": "execute_result",
          "data": {
            "text/plain": [
              "True"
            ]
          },
          "metadata": {},
          "execution_count": 60
        }
      ]
    },
    {
      "cell_type": "code",
      "source": [
        "a<b or b<c\n",
        "\n"
      ],
      "metadata": {
        "colab": {
          "base_uri": "https://localhost:8080/"
        },
        "id": "AlvWjv00ZJZ8",
        "outputId": "41a0574a-5239-4e23-96ac-666b0706f59f"
      },
      "execution_count": null,
      "outputs": [
        {
          "output_type": "execute_result",
          "data": {
            "text/plain": [
              "False"
            ]
          },
          "metadata": {},
          "execution_count": 59
        }
      ]
    },
    {
      "cell_type": "code",
      "source": [
        "cls=11"
      ],
      "metadata": {
        "id": "YhIrhsCMZmQF"
      },
      "execution_count": null,
      "outputs": []
    },
    {
      "cell_type": "code",
      "source": [
        "cls=11\n",
        "if cls>9:\n",
        "  print('senior ')"
      ],
      "metadata": {
        "id": "NLLAQfPOjB1o",
        "outputId": "dd4966a2-5c44-4e66-f14b-c97f072a2408",
        "colab": {
          "base_uri": "https://localhost:8080/"
        }
      },
      "execution_count": null,
      "outputs": [
        {
          "output_type": "stream",
          "name": "stdout",
          "text": [
            "senior \n"
          ]
        }
      ]
    },
    {
      "cell_type": "code",
      "source": [
        "age=12\n",
        "if age>=18:\n",
        "  print('can vote')\n",
        "else:\n",
        "  print(\"can't vote\")"
      ],
      "metadata": {
        "id": "NHy9QTs1jG1m",
        "colab": {
          "base_uri": "https://localhost:8080/"
        },
        "outputId": "fd39963a-93b7-4f3a-f72f-e90550f1ff36"
      },
      "execution_count": null,
      "outputs": [
        {
          "output_type": "stream",
          "name": "stdout",
          "text": [
            "can't vote\n"
          ]
        }
      ]
    },
    {
      "cell_type": "code",
      "source": [
        "Number=12\n",
        "if Number%2==0:\n",
        "  print(\"even\")\n",
        "else:\n",
        "  print(\"odd\")"
      ],
      "metadata": {
        "colab": {
          "base_uri": "https://localhost:8080/"
        },
        "id": "FGzdVz2ZkQze",
        "outputId": "2cd83cfc-17db-4e0e-f681-e2df201200d6"
      },
      "execution_count": null,
      "outputs": [
        {
          "output_type": "stream",
          "name": "stdout",
          "text": [
            "even\n"
          ]
        }
      ]
    },
    {
      "cell_type": "code",
      "source": [
        "percentage = 76\n",
        "\n",
        "if (percentage > 39 and percentage <= 59):\n",
        "   print(\"Passed, you scored:\", percentage, \"% with B Division.\")\n",
        "if (percentage > 59 and percentage <= 74):\n",
        "   print(\"Passed, you scored:\", percentage, \"% with A Division.\")\n",
        "if (percentage > 74 ):\n",
        "   print(\"Passed, you scored:\", percentage, \"% with A+ Division.\")\n",
        "else:\n",
        "   print(\"Failed, you scored:\", percentage, \"%\")"
      ],
      "metadata": {
        "colab": {
          "base_uri": "https://localhost:8080/"
        },
        "id": "Viz8UJtCoo2d",
        "outputId": "6cfbcc9a-af5a-403c-f22f-38355ae669b9"
      },
      "execution_count": null,
      "outputs": [
        {
          "output_type": "stream",
          "name": "stdout",
          "text": [
            "Passed, you scored: 76 % with A+ Division.\n"
          ]
        }
      ]
    },
    {
      "cell_type": "code",
      "source": [
        "Number=int(input(\"Enter a number:\"))\n",
        "if Number%2==0:\n",
        "  print(\"even\")\n",
        "else:\n",
        "  print(\"odd\")"
      ],
      "metadata": {
        "id": "q6xoKFJbqEOe",
        "colab": {
          "base_uri": "https://localhost:8080/"
        },
        "outputId": "dae1c570-61df-4684-b635-384cea10a066"
      },
      "execution_count": null,
      "outputs": [
        {
          "output_type": "stream",
          "name": "stdout",
          "text": [
            "Enter a number:12\n",
            "even\n"
          ]
        }
      ]
    },
    {
      "cell_type": "code",
      "source": [
        "Number=int(input(\"Enter a number:\"))\n",
        "if Number%2!=0:\n",
        "  print(\"even\")\n",
        "else:\n",
        "  print(\"odd\")"
      ],
      "metadata": {
        "colab": {
          "base_uri": "https://localhost:8080/"
        },
        "id": "u3FVWEeAr0xF",
        "outputId": "8648a5b5-01e1-4d39-f643-b9f909ba7394"
      },
      "execution_count": null,
      "outputs": [
        {
          "output_type": "stream",
          "name": "stdout",
          "text": [
            "Enter a number:12\n",
            "odd\n"
          ]
        }
      ]
    },
    {
      "cell_type": "code",
      "source": [
        "# Conditional Statements\n",
        "\n",
        "# IF\n",
        "age = 16\n",
        "if age > 16:\n",
        "   print(\"You are eligible...\")\n",
        "\n",
        "if age <= 16:\n",
        "   print(\"You're not eligible...\")\n",
        "\n",
        "cls = 7\n",
        "if cls > 7:\n",
        "   print(\"Secondary Class...\")\n",
        "\n",
        "if cls <= 7:\n",
        "   print(\"Primary Class...\")\n"
      ],
      "metadata": {
        "colab": {
          "base_uri": "https://localhost:8080/"
        },
        "id": "e704A2g5sEJT",
        "outputId": "2b0e5e4c-5161-456b-aa98-1528e943e04c"
      },
      "execution_count": null,
      "outputs": [
        {
          "output_type": "stream",
          "name": "stdout",
          "text": [
            "You're not eligible...\n",
            "Primary Class...\n"
          ]
        }
      ]
    },
    {
      "cell_type": "code",
      "source": [
        "no=input()"
      ],
      "metadata": {
        "colab": {
          "base_uri": "https://localhost:8080/"
        },
        "id": "NHQ2wrjgrlhy",
        "outputId": "73b38abe-150a-465b-b853-5f9fd594dc34"
      },
      "execution_count": null,
      "outputs": [
        {
          "name": "stdout",
          "output_type": "stream",
          "text": [
            "12\n"
          ]
        }
      ]
    },
    {
      "cell_type": "code",
      "source": [
        "no"
      ],
      "metadata": {
        "colab": {
          "base_uri": "https://localhost:8080/",
          "height": 35
        },
        "id": "Uh2YAXTqsOOQ",
        "outputId": "64124a65-0679-4afd-acf0-8fa23d4bb281"
      },
      "execution_count": null,
      "outputs": [
        {
          "output_type": "execute_result",
          "data": {
            "text/plain": [
              "'12'"
            ],
            "application/vnd.google.colaboratory.intrinsic+json": {
              "type": "string"
            }
          },
          "metadata": {},
          "execution_count": 17
        }
      ]
    },
    {
      "cell_type": "code",
      "source": [
        "type(no)"
      ],
      "metadata": {
        "colab": {
          "base_uri": "https://localhost:8080/"
        },
        "id": "zbbTQBoOsSP-",
        "outputId": "c35887f0-6374-4f35-a30f-ee3eb30dddc9"
      },
      "execution_count": null,
      "outputs": [
        {
          "output_type": "execute_result",
          "data": {
            "text/plain": [
              "str"
            ]
          },
          "metadata": {},
          "execution_count": 18
        }
      ]
    },
    {
      "cell_type": "code",
      "source": [
        "percentage=int(input(\"Enter a number:\"))\n",
        "if Number%2!=0:\n",
        "  print(\"even\")\n",
        "else:\n",
        "  print(\"odd\")"
      ],
      "metadata": {
        "id": "M_DUo8bksaEt"
      },
      "execution_count": null,
      "outputs": []
    },
    {
      "cell_type": "code",
      "source": [
        "a=\"hello my name is pratik\"\n",
        "b=input(\"Enter a string\")\n",
        "if my in a:\n",
        "  print(\"yes\")\n",
        "else:\n",
        "  print(\"no\")"
      ],
      "metadata": {
        "id": "2dSW2FUotG-G"
      },
      "execution_count": null,
      "outputs": []
    },
    {
      "cell_type": "code",
      "source": [
        "a=\"hello my name is pratik\"\n",
        "b=input(\"Enter a string:-\")\n",
        "if b in a:\n",
        "  print(\"yes\")\n",
        "else:\n",
        "  print(\"no\")"
      ],
      "metadata": {
        "colab": {
          "base_uri": "https://localhost:8080/"
        },
        "id": "6W_2ydLttqVZ",
        "outputId": "df17f165-7763-4a3f-d86e-059cb86fd6b7"
      },
      "execution_count": null,
      "outputs": [
        {
          "output_type": "stream",
          "name": "stdout",
          "text": [
            "Enter a string:-my\n",
            "yes\n"
          ]
        }
      ]
    },
    {
      "cell_type": "code",
      "source": [],
      "metadata": {
        "id": "JGyYg3HMtzVv"
      },
      "execution_count": null,
      "outputs": []
    },
    {
      "cell_type": "code",
      "source": [
        "Var1 = \"Every Drop of Water is precious, Water is Life\"\n",
        "print (\"Enter your keyword to search\")\n",
        "var2 = input()\n",
        "if var2 in Var1:\n",
        "   print(\"Keyword in Slogan\")\n",
        "else:\n",
        "   print(\"keyword not in slogan\")"
      ],
      "metadata": {
        "colab": {
          "base_uri": "https://localhost:8080/"
        },
        "id": "6JocGvxnvD06",
        "outputId": "c01acfed-7408-4828-e9eb-b3a0d42724cd"
      },
      "execution_count": null,
      "outputs": [
        {
          "output_type": "stream",
          "name": "stdout",
          "text": [
            "Enter your keyword to search\n",
            "in\n",
            "keyword not in slogan\n"
          ]
        }
      ]
    },
    {
      "cell_type": "code",
      "source": [
        "percentage = 74\n",
        "\n",
        "if (percentage > 39 and percentage <= 59):\n",
        "   print(\"Passed, you scored:\", percentage, \"% with B Division.\")\n",
        "elif (percentage > 59 and percentage <= 74):\n",
        "   print(\"Passed, you scored:\", percentage, \"% with A Division.\")\n",
        "elif (percentage > 74 ):\n",
        "   print(\"Passed, you scored:\", percentage, \"% with A+ Division.\")\n",
        "else:\n",
        "   print(\"Failed, you scored:\", percentage, \"%\")"
      ],
      "metadata": {
        "colab": {
          "base_uri": "https://localhost:8080/"
        },
        "id": "UlnbGEbsvEuv",
        "outputId": "ea4d3a83-fdbb-40c6-fddb-3f2b71f2af51"
      },
      "execution_count": null,
      "outputs": [
        {
          "output_type": "stream",
          "name": "stdout",
          "text": [
            "Passed, you scored: 74 % with A Division.\n"
          ]
        }
      ]
    },
    {
      "cell_type": "code",
      "source": [
        "age=int(input(\"Enter age:-\"))\n",
        "if age==18:\n",
        "  print(\"you are in scool\")\n",
        "elif age>18 and age<=26:\n",
        "  print(\"in clg\")\n",
        "elif age>26 and age<=60:\n",
        "  print(\"working professsional\")\n",
        "else:\n",
        "  print(\"retired\")"
      ],
      "metadata": {
        "colab": {
          "base_uri": "https://localhost:8080/"
        },
        "id": "139uRLvOw2qc",
        "outputId": "c5f94ed0-8edf-4c4b-9a4e-ac83a6d9fb85"
      },
      "execution_count": null,
      "outputs": [
        {
          "output_type": "stream",
          "name": "stdout",
          "text": [
            "Enter age:-61\n",
            "retired\n"
          ]
        }
      ]
    },
    {
      "cell_type": "code",
      "source": [],
      "metadata": {
        "id": "znKizemOxEwK"
      },
      "execution_count": null,
      "outputs": []
    }
  ]
}